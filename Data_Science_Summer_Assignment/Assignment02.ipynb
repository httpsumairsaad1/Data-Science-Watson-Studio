{
 "cells": [
  {
   "cell_type": "markdown",
   "id": "f472b19d-2168-4593-857f-a51b7081ffee",
   "metadata": {},
   "source": [
    "# Data Science - Summer 2025\n",
    "### **Course:** Data Science | **Instructor:** Dr. Adil Khan | **Submitted by:** Umair Saad - 023-21-0182\n",
    "### **Python (Lists, Tuples, Sets, and Dictionaries) - Assignment - 02** "
   ]
  },
  {
   "cell_type": "code",
   "execution_count": 15,
   "id": "34b439a4-b433-4dd1-b068-bbf347836d39",
   "metadata": {},
   "outputs": [
    {
     "name": "stdout",
     "output_type": "stream",
     "text": [
      "Five Cities:  ['Ghotki', 'Sukkur', 'Mirpurkhas', 'Karachi', 'Lahore']\n",
      "After add new city:  ['Ghotki', 'Sukkur', 'Mirpurkhas', 'Karachi', 'Lahore', 'Digri']\n",
      "After remove city:  ['Ghotki', 'Sukkur', 'Mirpurkhas', 'Karachi', 'Digri']\n"
     ]
    }
   ],
   "source": [
    "# TASK-1\n",
    "myCities = [\"Ghotki\", \"Sukkur\", \"Mirpurkhas\", \"Karachi\", \"Lahore\"]\n",
    "print(\"Five Cities: \", myCities)\n",
    "# Add a city\n",
    "myCities.append(\"Digri\")\n",
    "print(\"After add new city: \", myCities)\n",
    "myCities.remove(\"Lahore\")\n",
    "print(\"After remove city: \", myCities)"
   ]
  },
  {
   "cell_type": "code",
   "execution_count": 23,
   "id": "38cb3416-c417-41f5-91c3-ee799f4ad88c",
   "metadata": {},
   "outputs": [
    {
     "name": "stdout",
     "output_type": "stream",
     "text": [
      "Even Numbers Tuple:  (2, 4, 6, 8, 10)\n",
      "Error occurred while modifying tuple: 'tuple' object does not support item assignment\n",
      "Explanation: Tuples are immutable, so their elements cannot be changed once defined.\n",
      "The 3rd element is: 6\n"
     ]
    }
   ],
   "source": [
    "# TASK-2\n",
    "evenNumbers = (2, 4, 6, 8, 10)\n",
    "print(\"Even Numbers Tuple: \", evenNumbers)\n",
    "\n",
    "#modifying \n",
    "try:\n",
    "    evenNumbers[2] = 12\n",
    "except TypeError as e:\n",
    "    print(\"Error occurred while modifying tuple:\", e)\n",
    "    print(\"Explanation: Tuples are immutable, so their elements cannot be changed once defined.\")\n",
    "\n",
    "# Access 3rd element\n",
    "thirdElement = evenNumbers[2]\n",
    "print(\"The 3rd element is:\", thirdElement)\n"
   ]
  },
  {
   "cell_type": "code",
   "execution_count": 27,
   "id": "39235b76-9c78-4485-9086-02e4cd7b84ca",
   "metadata": {},
   "outputs": [
    {
     "name": "stdout",
     "output_type": "stream",
     "text": [
      "Favorite Foods Set: {'Pasta', 'Pizza', 'Burger', 'Biryani'}\n",
      "Explanation: Repeated items automatically removed.\n"
     ]
    }
   ],
   "source": [
    "# TASK-3\n",
    "\n",
    "favoriteFoods = {\"Biryani\", \"Pizza\", \"Burger\", \"Pasta\", \"Biryani\"}\n",
    "print(\"Favorite Foods Set:\", favoriteFoods)\n",
    "\n",
    "# Explanation:\n",
    "print(\"Explanation: Repeated items automatically removed.\")"
   ]
  },
  {
   "cell_type": "code",
   "execution_count": 31,
   "id": "de8de77f-9512-4052-a4ea-74ed8b502c40",
   "metadata": {},
   "outputs": [
    {
     "name": "stdout",
     "output_type": "stream",
     "text": [
      "Student Dictionary: {'firstName': 'Ali', 'lastName': 'Khan', 'age': 20, 'city': 'Sukkur', 'grade': 'A'}\n",
      "Keys: dict_keys(['firstName', 'lastName', 'age', 'city', 'grade'])\n",
      "Values: dict_values(['Ali', 'Khan', 20, 'Sukkur', 'A'])\n",
      "Grade: A\n"
     ]
    }
   ],
   "source": [
    "# TASK-4 Dictionary Basics (Umair Saad --- 023-21-0182)\n",
    "\n",
    "student = {\"firstName\": \"Ali\", \"lastName\":\"Khan\",\"age\": 20, \"city\":\"Sukkur\", \"grade\": \"A\"}\n",
    "print(\"Student Dictionary:\", student)\n",
    "\n",
    "# all keys\n",
    "print(\"Keys:\", student.keys())\n",
    "\n",
    "# all values\n",
    "print(\"Values:\", student.values())\n",
    "\n",
    "# Print value of 'grade'\n",
    "print(\"Grade:\", student[\"grade\"])"
   ]
  },
  {
   "cell_type": "markdown",
   "id": "33a40d89-26dc-44d0-879b-d9316a597c95",
   "metadata": {},
   "source": [
    "**Data Science - Summer 2025 (Umair Saad --- 023-21-0182)**"
   ]
  },
  {
   "cell_type": "code",
   "execution_count": 37,
   "id": "1a0f531f-171d-4dbe-bb36-056e4c5d8a8e",
   "metadata": {},
   "outputs": [
    {
     "name": "stdout",
     "output_type": "stream",
     "text": [
      "List: [1, 2, 3, 4, 5, 6, 7, 8, 9, 10]\n",
      "First 5 numbers: [1, 2, 3, 4, 5]\n",
      "Last 3 numbers: [8, 9, 10]\n",
      "After replacing 2nd with 99: [1, 99, 3, 4, 5, 6, 7, 8, 9, 10]\n"
     ]
    }
   ],
   "source": [
    "# TASK-5\n",
    "\n",
    "numbers = [1, 2, 3, 4, 5, 6, 7, 8, 9, 10]\n",
    "print(\"List:\", numbers)\n",
    "\n",
    "print(\"First 5 numbers:\", numbers[:5])\n",
    "\n",
    "print(\"Last 3 numbers:\", numbers[-3:])\n",
    "\n",
    "# Replace (index 1) with 99\n",
    "numbers[1] = 99\n",
    "print(\"After replacing 2nd with 99:\", numbers)\n"
   ]
  },
  {
   "cell_type": "code",
   "execution_count": 45,
   "id": "17553b1a-ca35-4e09-999c-d163e1447551",
   "metadata": {},
   "outputs": [
    {
     "name": "stdout",
     "output_type": "stream",
     "text": [
      "OG Tuple: ('Ali', 20, 'Karachi')\n",
      "Name: Ali\n",
      "Age: 20\n",
      "City: Karachi\n"
     ]
    }
   ],
   "source": [
    "# TASK-6\n",
    "insanInfo = (\"Ali\", 20, \"Karachi\")\n",
    "print(\"OG Tuple:\", insanInfo)\n",
    "\n",
    "# Unpack\n",
    "name, age, city = insanInfo\n",
    "\n",
    "print(\"Name:\", name)\n",
    "print(\"Age:\", age)\n",
    "print(\"City:\", city)\n"
   ]
  },
  {
   "cell_type": "code",
   "execution_count": 52,
   "id": "67a65607-44d7-4571-a041-403baabd7bfb",
   "metadata": {},
   "outputs": [
    {
     "name": "stdout",
     "output_type": "stream",
     "text": [
      "Set A: {1, 2, 3, 4}\n",
      "Set B: {3, 4, 5, 6}\n",
      "Union (A ∪ B): {1, 2, 3, 4, 5, 6}\n",
      "Intersection (A ∩ B): {3, 4}\n",
      "Difference (A - B): {1, 2}\n"
     ]
    }
   ],
   "source": [
    "# TASK-7\n",
    "\n",
    "A = {1, 2, 3, 4}\n",
    "B = {3, 4, 5, 6}\n",
    "print(\"Set A:\", A)\n",
    "print(\"Set B:\", B)\n",
    "\n",
    "# union - A and B\n",
    "unionAB = A.union(B)\n",
    "print(\"Union (A ∪ B):\", unionAB)\n",
    "\n",
    "# intersection - A and B\n",
    "intersectionAB = A.intersection(B)\n",
    "print(\"Intersection (A ∩ B):\", intersectionAB)\n",
    "\n",
    "# difference (A - B)\n",
    "differenceAB = A.difference(B)\n",
    "print(\"Difference (A - B):\", differenceAB)\n"
   ]
  },
  {
   "cell_type": "code",
   "execution_count": 56,
   "id": "16c7be7c-b69f-4136-ad55-5779005d98eb",
   "metadata": {},
   "outputs": [
    {
     "name": "stdout",
     "output_type": "stream",
     "text": [
      "Before Updated {'name': 'Ali', 'age': 20, 'grade': 'A'}\n",
      "Updated Student Dictionary: {'name': 'Ali', 'grade': 'A+', 'email': 'ali@example.com'}\n"
     ]
    }
   ],
   "source": [
    "# TASK-8\n",
    "\n",
    "student = {\"name\": \"Ali\", \"age\": 20, \"grade\": \"A\"}\n",
    "print(\"Before Updated\", student)\n",
    "# new key> email\n",
    "student[\"email\"] = \"ali@example.com\"\n",
    "\n",
    "# Update the grade\n",
    "student[\"grade\"] = \"A+\"\n",
    "\n",
    "# Remove age\n",
    "student.pop(\"age\")\n",
    "\n",
    "print(\"Updated Student Dictionary:\", student)\n"
   ]
  },
  {
   "cell_type": "code",
   "execution_count": 60,
   "id": "23f8e233-df8b-46f1-9548-0671ace65ee6",
   "metadata": {},
   "outputs": [
    {
     "name": "stdout",
     "output_type": "stream",
     "text": [
      "Even Numbers: [2, 4, 6, 8, 10, 12, 14, 16, 18, 20, 22, 24, 26, 28, 30]\n"
     ]
    }
   ],
   "source": [
    "# TASK-9\n",
    "nums = [1, 2, 3, 4, 5, 6, 7, 8, 9, 10, 12, 14, 16, 18, 20, 22, 24,26, 28, 30]\n",
    "even_numbers = []\n",
    "for num in nums:\n",
    "    if num % 2 == 0:\n",
    "        even_numbers.append(num)\n",
    "\n",
    "print(\"Even Numbers:\", even_numbers)"
   ]
  },
  {
   "cell_type": "code",
   "execution_count": 62,
   "id": "44eeb549-aa7e-44aa-b811-160fd1d105c6",
   "metadata": {},
   "outputs": [
    {
     "name": "stdout",
     "output_type": "stream",
     "text": [
      "Sara scored 85 marks.\n",
      "Zain scored 92 marks.\n"
     ]
    }
   ],
   "source": [
    "# TASK-10\n",
    "\n",
    "students = {\n",
    "    \"student1\": {\"name\": \"Sara\", \"age\": 19, \"marks\": 85},\n",
    "    \"student2\": {\"name\": \"Zain\", \"age\": 21, \"marks\": 92}\n",
    "}\n",
    "for key in students:\n",
    "    name = students[key][\"name\"]\n",
    "    marks = students[key][\"marks\"]\n",
    "    print(f\"{name} scored {marks} marks.\")\n"
   ]
  },
  {
   "cell_type": "code",
   "execution_count": 64,
   "id": "26a0d36a-50cb-46a6-bb32-d66144a3e235",
   "metadata": {},
   "outputs": [
    {
     "name": "stdout",
     "output_type": "stream",
     "text": [
      "Book - Rs.300\n",
      "Pen - Rs.50\n",
      "Bag - Rs.1500\n"
     ]
    }
   ],
   "source": [
    "# TASK-11\n",
    "\n",
    "products = [\n",
    "    {\"item\": \"Book\", \"price\": 300},\n",
    "    {\"item\": \"Pen\", \"price\": 50},\n",
    "    {\"item\": \"Bag\", \"price\": 1500}\n",
    "]\n",
    "for product in products:\n",
    "    print(f\"{product['item']} - Rs.{product['price']}\")\n"
   ]
  },
  {
   "cell_type": "code",
   "execution_count": null,
   "id": "aede4174-2b81-4ea7-a0bb-3beaa07d4c5c",
   "metadata": {},
   "outputs": [],
   "source": [
    "# TASK-12\n",
    "\n",
    "cricket = {\"Ali\", \"Sara\", \"Zain\"}\n",
    "football = {\"Zain\", \"Fatima\", \"Ali\"}\n",
    "\n",
    "both = cricket.intersection(football) \n",
    "print(\"Play both:\", both)\n",
    "\n",
    "only_cricket = cricket.difference(football)\n",
    "print(\"Only cricket:\", only_cricket)\n",
    "\n",
    "only_one_sport = cricket.symmetric_difference(football)\n",
    "print(\"Only one sport:\", only_one_sport)\n"
   ]
  },
  {
   "cell_type": "code",
   "execution_count": 66,
   "id": "e52de084-a180-4140-815e-179088520463",
   "metadata": {},
   "outputs": [
    {
     "name": "stdout",
     "output_type": "stream",
     "text": [
      "Squares from 1 to 5: [1, 4, 9, 16, 25]\n"
     ]
    }
   ],
   "source": [
    "# TASK-13\n",
    "\n",
    "squares = [x**2 for x in range(1, 6)]\n",
    "print(\"Squares from 1 to 5:\", squares)"
   ]
  },
  {
   "cell_type": "code",
   "execution_count": 76,
   "id": "d7dbea62-3b04-4b44-a50d-743fd317282a",
   "metadata": {},
   "outputs": [
    {
     "name": "stdout",
     "output_type": "stream",
     "text": [
      "Apple 3 times.\n",
      "Orange 1 times.\n",
      "Banana 2 times.\n"
     ]
    }
   ],
   "source": [
    "# TASK-14\n",
    "\n",
    "fruits = [\"apple\", \"banana\", \"apple\", \"orange\", \"banana\", \"apple\"]\n",
    "count_apple = fruits.count(\"apple\")\n",
    "print(\"Apple\", count_apple, \"times.\")\n",
    "\n",
    "count = fruits.count(\"orange\")\n",
    "print(\"Orange\", count, \"times.\")\n",
    "\n",
    "count = fruits.count(\"banana\")\n",
    "print(\"Banana\", count, \"times.\")"
   ]
  },
  {
   "cell_type": "code",
   "execution_count": 80,
   "id": "85708578-c63b-4a80-ab38-b80ea451bd27",
   "metadata": {},
   "outputs": [
    {
     "name": "stdout",
     "output_type": "stream",
     "text": [
      "\n",
      "1. Add Task\n",
      "2. View Tasks\n",
      "3. Mark as Completed\n",
      "4. Remove Completed Tasks\n",
      "5. Exit\n"
     ]
    },
    {
     "name": "stdin",
     "output_type": "stream",
     "text": [
      "Choose an option:  5\n"
     ]
    }
   ],
   "source": [
    "# TASK-15\n",
    "\n",
    "todo = {}\n",
    "\n",
    "while True:\n",
    "    print(\"\\n1. Add Task\\n2. View Tasks\\n3. Mark as Completed\\n4. Remove Completed Tasks\\n5. Exit\")\n",
    "    choice = input(\"Choose an option: \")\n",
    "\n",
    "    if choice == \"1\":\n",
    "        task = input(\"Enter task name: \")\n",
    "        todo[task] = \"Incomplete\"\n",
    "    elif choice == \"2\":\n",
    "        for task, status in todo.items():\n",
    "            print(f\"{task}: {status}\")\n",
    "    elif choice == \"3\":\n",
    "        task = input(\"Enter task to mark as completed: \")\n",
    "        if task in todo:\n",
    "            todo[task] = \"Completed\"\n",
    "        else:\n",
    "            print(\"Task not found.\")\n",
    "    elif choice == \"4\":\n",
    "        completed_tasks = [task for task, status in todo.items() if status == \"Completed\"]\n",
    "        for task in completed_tasks:\n",
    "            del todo[task]\n",
    "        print(\"Completed tasks removed.\")\n",
    "    elif choice == \"5\":\n",
    "        break\n",
    "    else:\n",
    "        print(\"Invalid choice.\")\n"
   ]
  },
  {
   "cell_type": "code",
   "execution_count": 82,
   "id": "b3ae4c59-4a8f-42a3-acbb-4b43020b0e4c",
   "metadata": {},
   "outputs": [
    {
     "name": "stdout",
     "output_type": "stream",
     "text": [
      "\n",
      "1. Add Contact\n",
      "2. View Contacts\n",
      "3. Search Contact\n",
      "4. Exit\n"
     ]
    },
    {
     "name": "stdin",
     "output_type": "stream",
     "text": [
      "Choose an option:  4\n"
     ]
    }
   ],
   "source": [
    "# TASK-16\n",
    "\n",
    "contacts = {}\n",
    "\n",
    "while True:\n",
    "    print(\"\\n1. Add Contact\\n2. View Contacts\\n3. Search Contact\\n4. Exit\")\n",
    "    choice = input(\"Choose an option: \")\n",
    "\n",
    "    if choice == \"1\":\n",
    "        name = input(\"Enter name: \")\n",
    "        phone = input(\"Enter phone number: \")\n",
    "        contacts[name] = phone\n",
    "    elif choice == \"2\":\n",
    "        for name, phone in contacts.items():\n",
    "            print(f\"{name}: {phone}\")\n",
    "    elif choice == \"3\":\n",
    "        search_name = input(\"Enter name to search: \")\n",
    "        if search_name in contacts:\n",
    "            print(f\"{search_name}'s number is {contacts[search_name]}\")\n",
    "        else:\n",
    "            print(\"Contact not found.\")\n",
    "    elif choice == \"4\":\n",
    "        break\n",
    "    else:\n",
    "        print(\"Invalid option.\")"
   ]
  }
 ],
 "metadata": {
  "kernelspec": {
   "display_name": "Python 3 (ipykernel)",
   "language": "python",
   "name": "python3"
  },
  "language_info": {
   "codemirror_mode": {
    "name": "ipython",
    "version": 3
   },
   "file_extension": ".py",
   "mimetype": "text/x-python",
   "name": "python",
   "nbconvert_exporter": "python",
   "pygments_lexer": "ipython3",
   "version": "3.12.4"
  }
 },
 "nbformat": 4,
 "nbformat_minor": 5
}
